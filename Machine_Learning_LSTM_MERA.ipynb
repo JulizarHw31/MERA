{
  "nbformat": 4,
  "nbformat_minor": 0,
  "metadata": {
    "colab": {
      "name": "Copy of Machine Learning LSTM  MERA.ipynb",
      "provenance": [],
      "collapsed_sections": [],
      "include_colab_link": true
    },
    "kernelspec": {
      "name": "python3",
      "display_name": "Python 3"
    }
  },
  "cells": [
    {
      "cell_type": "markdown",
      "metadata": {
        "id": "view-in-github",
        "colab_type": "text"
      },
      "source": [
        "<a href=\"https://colab.research.google.com/github/JulizarHw31/MERA/blob/circleci-project-setup/Machine_Learning_LSTM_MERA.ipynb\" target=\"_parent\"><img src=\"https://colab.research.google.com/assets/colab-badge.svg\" alt=\"Open In Colab\"/></a>"
      ]
    },
    {
      "cell_type": "markdown",
      "metadata": {
        "id": "tZLZ2PawMzmL"
      },
      "source": [
        "# MOUNT DATA GOOGLE DRIVE\n"
      ]
    },
    {
      "cell_type": "code",
      "metadata": {
        "id": "IULx3IAyx5DB",
        "colab": {
          "base_uri": "https://localhost:8080/"
        },
        "outputId": "58c9216c-0225-4533-fef1-0a43c1192d33"
      },
      "source": [
        "from google.colab import drive\n",
        "drive.mount('/content/drive')"
      ],
      "execution_count": 2,
      "outputs": [
        {
          "output_type": "stream",
          "text": [
            "Mounted at /content/drive\n"
          ],
          "name": "stdout"
        }
      ]
    },
    {
      "cell_type": "markdown",
      "metadata": {
        "id": "awfGM_4iQVZ6"
      },
      "source": [
        "#For Indonesia Language\n",
        "\n"
      ]
    },
    {
      "cell_type": "code",
      "metadata": {
        "colab": {
          "base_uri": "https://localhost:8080/"
        },
        "id": "3LiMIefw1CDW",
        "outputId": "9387c8e5-c548-40af-aee1-1003fdd30316"
      },
      "source": [
        "pip install Sastrawi"
      ],
      "execution_count": 3,
      "outputs": [
        {
          "output_type": "stream",
          "text": [
            "Collecting Sastrawi\n",
            "\u001b[?25l  Downloading https://files.pythonhosted.org/packages/6f/4b/bab676953da3103003730b8fcdfadbdd20f333d4add10af949dd5c51e6ed/Sastrawi-1.0.1-py2.py3-none-any.whl (209kB)\n",
            "\u001b[K     |████████████████████████████████| 215kB 3.1MB/s \n",
            "\u001b[?25hInstalling collected packages: Sastrawi\n",
            "Successfully installed Sastrawi-1.0.1\n"
          ],
          "name": "stdout"
        }
      ]
    },
    {
      "cell_type": "markdown",
      "metadata": {
        "id": "yG49YxQEQhGL"
      },
      "source": [
        "## Importing Libraries "
      ]
    },
    {
      "cell_type": "code",
      "metadata": {
        "id": "VSaDdoypyqPi",
        "colab": {
          "base_uri": "https://localhost:8080/"
        },
        "outputId": "1d7d990f-fa17-4d9a-af73-e424a903fa3d"
      },
      "source": [
        "import pandas as pd # data processing, CSV file I/O (e.g. pd.read_csv)\n",
        "import re\n",
        "import string\n",
        "import nltk\n",
        "import numpy as np\n",
        "import tensorflow as tf\n",
        "nltk.download('punkt')\n",
        "nltk.download('stopwords')"
      ],
      "execution_count": 4,
      "outputs": [
        {
          "output_type": "stream",
          "text": [
            "[nltk_data] Downloading package punkt to /root/nltk_data...\n",
            "[nltk_data]   Unzipping tokenizers/punkt.zip.\n",
            "[nltk_data] Downloading package stopwords to /root/nltk_data...\n",
            "[nltk_data]   Unzipping corpora/stopwords.zip.\n"
          ],
          "name": "stdout"
        },
        {
          "output_type": "execute_result",
          "data": {
            "text/plain": [
              "True"
            ]
          },
          "metadata": {
            "tags": []
          },
          "execution_count": 4
        }
      ]
    },
    {
      "cell_type": "markdown",
      "metadata": {
        "id": "erghoP1hQqNg"
      },
      "source": [
        "#Importing the dataset"
      ]
    },
    {
      "cell_type": "code",
      "metadata": {
        "id": "mRkSc3dnyqoi",
        "colab": {
          "base_uri": "https://localhost:8080/",
          "height": 200
        },
        "outputId": "7a6e4dec-3274-472a-bdd2-bc57ff1935ed"
      },
      "source": [
        "df = pd.read_csv('/content/drive/MyDrive/dataset/Dataset02.csv')\n",
        "df.head()"
      ],
      "execution_count": 5,
      "outputs": [
        {
          "output_type": "execute_result",
          "data": {
            "text/html": [
              "<div>\n",
              "<style scoped>\n",
              "    .dataframe tbody tr th:only-of-type {\n",
              "        vertical-align: middle;\n",
              "    }\n",
              "\n",
              "    .dataframe tbody tr th {\n",
              "        vertical-align: top;\n",
              "    }\n",
              "\n",
              "    .dataframe thead th {\n",
              "        text-align: right;\n",
              "    }\n",
              "</style>\n",
              "<table border=\"1\" class=\"dataframe\">\n",
              "  <thead>\n",
              "    <tr style=\"text-align: right;\">\n",
              "      <th></th>\n",
              "      <th>Komentar</th>\n",
              "      <th>Skor</th>\n",
              "    </tr>\n",
              "  </thead>\n",
              "  <tbody>\n",
              "    <tr>\n",
              "      <th>0</th>\n",
              "      <td>Saya sering diejek karena memiliki ukuran pant...</td>\n",
              "      <td>0</td>\n",
              "    </tr>\n",
              "    <tr>\n",
              "      <th>1</th>\n",
              "      <td>teman sma saya dulu sering mengejek saya bahwa...</td>\n",
              "      <td>0</td>\n",
              "    </tr>\n",
              "    <tr>\n",
              "      <th>2</th>\n",
              "      <td>Saya pernah mengalami tindakan tidak menyenang...</td>\n",
              "      <td>0</td>\n",
              "    </tr>\n",
              "    <tr>\n",
              "      <th>3</th>\n",
              "      <td>teman saya memiliki kulit yang cukup gelap, su...</td>\n",
              "      <td>0</td>\n",
              "    </tr>\n",
              "    <tr>\n",
              "      <th>4</th>\n",
              "      <td>Cat Calling sering terjadi saat saya berjalan ...</td>\n",
              "      <td>0</td>\n",
              "    </tr>\n",
              "  </tbody>\n",
              "</table>\n",
              "</div>"
            ],
            "text/plain": [
              "                                            Komentar  Skor\n",
              "0  Saya sering diejek karena memiliki ukuran pant...     0\n",
              "1  teman sma saya dulu sering mengejek saya bahwa...     0\n",
              "2  Saya pernah mengalami tindakan tidak menyenang...     0\n",
              "3  teman saya memiliki kulit yang cukup gelap, su...     0\n",
              "4  Cat Calling sering terjadi saat saya berjalan ...     0"
            ]
          },
          "metadata": {
            "tags": []
          },
          "execution_count": 5
        }
      ]
    },
    {
      "cell_type": "markdown",
      "metadata": {
        "id": "lCofHTpTQwZV"
      },
      "source": [
        "#Split Some Parahraphs Into Several Sentence "
      ]
    },
    {
      "cell_type": "code",
      "metadata": {
        "id": "8-sCgC7JKasC"
      },
      "source": [
        "#import stopword\n",
        "from nltk.tokenize import sent_tokenize, word_tokenize\n",
        "from Sastrawi.StopWordRemover.StopWordRemoverFactory import StopWordRemoverFactory"
      ],
      "execution_count": 6,
      "outputs": []
    },
    {
      "cell_type": "markdown",
      "metadata": {
        "id": "sDmYRsxIQ5RS"
      },
      "source": [
        "#Text preprocessing\n",
        "\n"
      ]
    },
    {
      "cell_type": "code",
      "metadata": {
        "colab": {
          "base_uri": "https://localhost:8080/",
          "height": 200
        },
        "id": "pEymv4aA88DR",
        "outputId": "2000357a-8db7-404c-ca4d-ff35fea295e2"
      },
      "source": [
        "def pre_process(text):\n",
        "    # Case Folding: Lowercase\n",
        "    text = text.lower()\n",
        "    \n",
        "    #Separating Sentences with Split () Method\n",
        "    pisah = text.split()\n",
        "\n",
        "    # Case Folding: Removing Number\n",
        "    text = re.sub(r\"\\d+\", \"\", text)\n",
        "\n",
        "    # Case Folding: Removing Punctuation\n",
        "    text = text.translate(str.maketrans(\"\",\"\",string.punctuation))\n",
        "\n",
        "    #Case Folding: Removing Whitespace\n",
        "    text = text.strip()\n",
        "\n",
        "    #Filtering using sastrawi\n",
        "    factory = StopWordRemoverFactory()\n",
        "    stopword = factory.create_stop_word_remover()\n",
        "    text =  stopword.remove(text)\n",
        "\n",
        "    return text\n",
        "\n",
        "df['Komentar'] = df['Komentar'].apply(lambda x:pre_process(x))\n",
        "df.head()"
      ],
      "execution_count": 7,
      "outputs": [
        {
          "output_type": "execute_result",
          "data": {
            "text/html": [
              "<div>\n",
              "<style scoped>\n",
              "    .dataframe tbody tr th:only-of-type {\n",
              "        vertical-align: middle;\n",
              "    }\n",
              "\n",
              "    .dataframe tbody tr th {\n",
              "        vertical-align: top;\n",
              "    }\n",
              "\n",
              "    .dataframe thead th {\n",
              "        text-align: right;\n",
              "    }\n",
              "</style>\n",
              "<table border=\"1\" class=\"dataframe\">\n",
              "  <thead>\n",
              "    <tr style=\"text-align: right;\">\n",
              "      <th></th>\n",
              "      <th>Komentar</th>\n",
              "      <th>Skor</th>\n",
              "    </tr>\n",
              "  </thead>\n",
              "  <tbody>\n",
              "    <tr>\n",
              "      <th>0</th>\n",
              "      <td>sering diejek memiliki ukuran pantat mencolok ...</td>\n",
              "      <td>0</td>\n",
              "    </tr>\n",
              "    <tr>\n",
              "      <th>1</th>\n",
              "      <td>teman sma dulu sering mengejek bahwa gendut pe...</td>\n",
              "      <td>0</td>\n",
              "    </tr>\n",
              "    <tr>\n",
              "      <th>2</th>\n",
              "      <td>pernah mengalami tindakan menyenangkan dilakuk...</td>\n",
              "      <td>0</td>\n",
              "    </tr>\n",
              "    <tr>\n",
              "      <th>3</th>\n",
              "      <td>teman memiliki kulit cukup gelap suatu jajan k...</td>\n",
              "      <td>0</td>\n",
              "    </tr>\n",
              "    <tr>\n",
              "      <th>4</th>\n",
              "      <td>cat calling sering terjadi saya berjalan sekit...</td>\n",
              "      <td>0</td>\n",
              "    </tr>\n",
              "  </tbody>\n",
              "</table>\n",
              "</div>"
            ],
            "text/plain": [
              "                                            Komentar  Skor\n",
              "0  sering diejek memiliki ukuran pantat mencolok ...     0\n",
              "1  teman sma dulu sering mengejek bahwa gendut pe...     0\n",
              "2  pernah mengalami tindakan menyenangkan dilakuk...     0\n",
              "3  teman memiliki kulit cukup gelap suatu jajan k...     0\n",
              "4  cat calling sering terjadi saya berjalan sekit...     0"
            ]
          },
          "metadata": {
            "tags": []
          },
          "execution_count": 7
        }
      ]
    },
    {
      "cell_type": "markdown",
      "metadata": {
        "id": "m-DarG3HTN3H"
      },
      "source": [
        "#BUILD MODEL"
      ]
    },
    {
      "cell_type": "code",
      "metadata": {
        "id": "bToAyF8oRWWo"
      },
      "source": [
        "from keras.preprocessing.text import Tokenizer\n",
        "from keras.preprocessing.sequence import pad_sequences\n",
        "from keras.layers import Dense , Input , LSTM , Embedding, Dropout , Activation, GRU, Flatten\n",
        "from keras.layers import Bidirectional, GlobalMaxPool1D\n",
        "from keras.models import Model, Sequential\n",
        "from keras.layers import Convolution1D\n",
        "from keras import initializers, regularizers, constraints, optimizers, layers"
      ],
      "execution_count": 8,
      "outputs": []
    },
    {
      "cell_type": "code",
      "metadata": {
        "id": "gw2oIg6-PUDR",
        "colab": {
          "base_uri": "https://localhost:8080/"
        },
        "outputId": "b55fc006-db99-40a6-edbe-29b88f5f9237"
      },
      "source": [
        "from sklearn.model_selection import train_test_split\n",
        "from sklearn.metrics import accuracy_score,f1_score, confusion_matrix\n",
        "\n",
        "train_df, test_df = train_test_split(df, test_size = 0.2, random_state = 42)\n",
        "print(\"Training data size : \", train_df.shape)\n",
        "print(\"Test data size : \", test_df.shape)"
      ],
      "execution_count": 9,
      "outputs": [
        {
          "output_type": "stream",
          "text": [
            "Training data size :  (59, 2)\n",
            "Test data size :  (15, 2)\n"
          ],
          "name": "stdout"
        }
      ]
    },
    {
      "cell_type": "markdown",
      "metadata": {
        "id": "YkbVFng4AVI5"
      },
      "source": [
        "#Tokenizer"
      ]
    },
    {
      "cell_type": "code",
      "metadata": {
        "id": "UbnHAyKARdGJ"
      },
      "source": [
        "top_words = 10000\n",
        "tokenizer = Tokenizer(num_words=top_words)\n",
        "tokenizer.fit_on_texts(train_df['Komentar'])\n",
        "list_tokenized_train = tokenizer.texts_to_sequences(train_df['Komentar'])\n",
        "\n",
        "max_review_length = 200\n",
        "X_train = pad_sequences(list_tokenized_train, maxlen=max_review_length)\n",
        "y_train = train_df['Skor']"
      ],
      "execution_count": 10,
      "outputs": []
    },
    {
      "cell_type": "markdown",
      "metadata": {
        "id": "2DDxvHl5T94W"
      },
      "source": [
        "#MAKE MODEL SEQUENTIAL"
      ]
    },
    {
      "cell_type": "code",
      "metadata": {
        "colab": {
          "base_uri": "https://localhost:8080/"
        },
        "id": "d8g5hh0ZSBPW",
        "outputId": "2d565003-f27a-474f-afba-3aacf63b71f4"
      },
      "source": [
        "embedding_vecor_length = 32\n",
        "model = Sequential()\n",
        "model.add(Embedding(top_words+1, embedding_vecor_length, input_length=max_review_length))\n",
        "model.add(LSTM(100))\n",
        "model.add(Dense(1, activation='sigmoid'))\n",
        "model.compile(loss='binary_crossentropy', optimizer='adam', metrics=['accuracy'])\n",
        "model.summary()"
      ],
      "execution_count": 11,
      "outputs": [
        {
          "output_type": "stream",
          "text": [
            "Model: \"sequential\"\n",
            "_________________________________________________________________\n",
            "Layer (type)                 Output Shape              Param #   \n",
            "=================================================================\n",
            "embedding (Embedding)        (None, 200, 32)           320032    \n",
            "_________________________________________________________________\n",
            "lstm (LSTM)                  (None, 100)               53200     \n",
            "_________________________________________________________________\n",
            "dense (Dense)                (None, 1)                 101       \n",
            "=================================================================\n",
            "Total params: 373,333\n",
            "Trainable params: 373,333\n",
            "Non-trainable params: 0\n",
            "_________________________________________________________________\n"
          ],
          "name": "stdout"
        }
      ]
    },
    {
      "cell_type": "markdown",
      "metadata": {
        "id": "MJvdpRdABOeu"
      },
      "source": [
        "#Train Model"
      ]
    },
    {
      "cell_type": "code",
      "metadata": {
        "colab": {
          "base_uri": "https://localhost:8080/"
        },
        "id": "rfckkm3wSL9G",
        "outputId": "bdce311e-b9eb-44a7-94e3-044eced951dd"
      },
      "source": [
        "model.fit(X_train,y_train, epochs=10, batch_size=64, validation_split=0.2)\n"
      ],
      "execution_count": 39,
      "outputs": [
        {
          "output_type": "stream",
          "text": [
            "Epoch 1/10\n",
            "1/1 [==============================] - 0s 271ms/step - loss: 0.0038 - accuracy: 1.0000 - val_loss: 0.7792 - val_accuracy: 0.5833\n",
            "Epoch 2/10\n",
            "1/1 [==============================] - 0s 236ms/step - loss: 0.0038 - accuracy: 1.0000 - val_loss: 0.7800 - val_accuracy: 0.5833\n",
            "Epoch 3/10\n",
            "1/1 [==============================] - 0s 256ms/step - loss: 0.0038 - accuracy: 1.0000 - val_loss: 0.7809 - val_accuracy: 0.5833\n",
            "Epoch 4/10\n",
            "1/1 [==============================] - 0s 248ms/step - loss: 0.0037 - accuracy: 1.0000 - val_loss: 0.7819 - val_accuracy: 0.5833\n",
            "Epoch 5/10\n",
            "1/1 [==============================] - 0s 236ms/step - loss: 0.0037 - accuracy: 1.0000 - val_loss: 0.7828 - val_accuracy: 0.5833\n",
            "Epoch 6/10\n",
            "1/1 [==============================] - 0s 248ms/step - loss: 0.0036 - accuracy: 1.0000 - val_loss: 0.7839 - val_accuracy: 0.5833\n",
            "Epoch 7/10\n",
            "1/1 [==============================] - 0s 244ms/step - loss: 0.0036 - accuracy: 1.0000 - val_loss: 0.7849 - val_accuracy: 0.5833\n",
            "Epoch 8/10\n",
            "1/1 [==============================] - 0s 252ms/step - loss: 0.0035 - accuracy: 1.0000 - val_loss: 0.7859 - val_accuracy: 0.5833\n",
            "Epoch 9/10\n",
            "1/1 [==============================] - 0s 235ms/step - loss: 0.0035 - accuracy: 1.0000 - val_loss: 0.7870 - val_accuracy: 0.5833\n",
            "Epoch 10/10\n",
            "1/1 [==============================] - 0s 242ms/step - loss: 0.0035 - accuracy: 1.0000 - val_loss: 0.7881 - val_accuracy: 0.5833\n"
          ],
          "name": "stdout"
        },
        {
          "output_type": "execute_result",
          "data": {
            "text/plain": [
              "<keras.callbacks.History at 0x7f89e0d34d50>"
            ]
          },
          "metadata": {
            "tags": []
          },
          "execution_count": 39
        }
      ]
    },
    {
      "cell_type": "code",
      "metadata": {
        "colab": {
          "base_uri": "https://localhost:8080/"
        },
        "id": "9ZESJPATi_rj",
        "outputId": "d6846f95-52d5-49ff-a1ed-b319941c6cdb"
      },
      "source": [
        "list_tokenized_test = tokenizer.texts_to_sequences(test_df['Komentar'])\n",
        "X_test = pad_sequences(list_tokenized_test, maxlen=max_review_length)\n",
        "y_test = test_df['Skor']\n",
        "prediction = model.predict(X_test)\n",
        "y_pred = (prediction > 0.5)\n",
        "print(\"Accuracy of the model : \", accuracy_score(y_pred, y_test))\n",
        "print('F1-score: ', f1_score(y_pred, y_test))\n",
        "print('Confusion matrix:')\n",
        "confusion_matrix(y_test,y_pred)"
      ],
      "execution_count": 40,
      "outputs": [
        {
          "output_type": "stream",
          "text": [
            "Accuracy of the model :  1.0\n",
            "F1-score:  1.0\n",
            "Confusion matrix:\n"
          ],
          "name": "stdout"
        },
        {
          "output_type": "execute_result",
          "data": {
            "text/plain": [
              "array([[7, 0],\n",
              "       [0, 8]])"
            ]
          },
          "metadata": {
            "tags": []
          },
          "execution_count": 40
        }
      ]
    },
    {
      "cell_type": "markdown",
      "metadata": {
        "id": "Gk5Vat2w7HaQ"
      },
      "source": [
        "#EXPORT MODEL"
      ]
    },
    {
      "cell_type": "code",
      "metadata": {
        "colab": {
          "base_uri": "https://localhost:8080/"
        },
        "id": "ExpPnG1etuR1",
        "outputId": "72a01be1-e9c2-4cb6-d586-87ec29db6389"
      },
      "source": [
        "export_dir = 'saved_model/1'\n",
        "\n",
        "tf.saved_model.save(model, export_dir)"
      ],
      "execution_count": 14,
      "outputs": [
        {
          "output_type": "stream",
          "text": [
            "WARNING:absl:Found untraced functions such as lstm_cell_layer_call_fn, lstm_cell_layer_call_and_return_conditional_losses, lstm_cell_layer_call_fn, lstm_cell_layer_call_and_return_conditional_losses, lstm_cell_layer_call_and_return_conditional_losses while saving (showing 5 of 5). These functions will not be directly callable after loading.\n"
          ],
          "name": "stderr"
        },
        {
          "output_type": "stream",
          "text": [
            "WARNING:tensorflow:FOR KERAS USERS: The object that you are saving contains one or more Keras models or layers. If you are loading the SavedModel with `tf.keras.models.load_model`, continue reading (otherwise, you may ignore the following instructions). Please change your code to save with `tf.keras.models.save_model` or `model.save`, and confirm that the file \"keras.metadata\" exists in the export directory. In the future, Keras will only load the SavedModels that have this file. In other words, `tf.saved_model.save` will no longer write SavedModels that can be recovered as Keras models (this will apply in TF 2.5).\n",
            "\n",
            "FOR DEVS: If you are overwriting _tracking_metadata in your class, this property has been used to save metadata in the SavedModel. The metadta field will be deprecated soon, so please move the metadata to a different file.\n"
          ],
          "name": "stdout"
        },
        {
          "output_type": "stream",
          "text": [
            "WARNING:tensorflow:FOR KERAS USERS: The object that you are saving contains one or more Keras models or layers. If you are loading the SavedModel with `tf.keras.models.load_model`, continue reading (otherwise, you may ignore the following instructions). Please change your code to save with `tf.keras.models.save_model` or `model.save`, and confirm that the file \"keras.metadata\" exists in the export directory. In the future, Keras will only load the SavedModels that have this file. In other words, `tf.saved_model.save` will no longer write SavedModels that can be recovered as Keras models (this will apply in TF 2.5).\n",
            "\n",
            "FOR DEVS: If you are overwriting _tracking_metadata in your class, this property has been used to save metadata in the SavedModel. The metadta field will be deprecated soon, so please move the metadata to a different file.\n"
          ],
          "name": "stderr"
        },
        {
          "output_type": "stream",
          "text": [
            "INFO:tensorflow:Assets written to: saved_model/1/assets\n"
          ],
          "name": "stdout"
        },
        {
          "output_type": "stream",
          "text": [
            "INFO:tensorflow:Assets written to: saved_model/1/assets\n"
          ],
          "name": "stderr"
        }
      ]
    },
    {
      "cell_type": "code",
      "metadata": {
        "id": "cT5RvkIfVlIr"
      },
      "source": [
        "# Select mode of optimization\n",
        "mode = \"Speed\" \n",
        "\n",
        "if mode == 'Storage':\n",
        "    optimization = tf.lite.Optimize.OPTIMIZE_FOR_SIZE\n",
        "elif mode == 'Speed':\n",
        "    optimization = tf.lite.Optimize.OPTIMIZE_FOR_LATENCY\n",
        "else:\n",
        "    optimization = tf.lite.Optimize.DEFAULT"
      ],
      "execution_count": 15,
      "outputs": []
    },
    {
      "cell_type": "markdown",
      "metadata": {
        "id": "5fMAweXG7ayO"
      },
      "source": [
        "#SAVE MODEL TFLITE"
      ]
    },
    {
      "cell_type": "code",
      "metadata": {
        "id": "qp7ms1tnJw9f"
      },
      "source": [
        "converter = tf.lite.TFLiteConverter.from_saved_model(export_dir) # path to the SavedModel directory\n",
        "tflite_model = converter.convert()\n",
        "\n",
        "# Save the model.\n",
        "with open('model.tflite', 'wb') as f:\n",
        "  f.write(tflite_model)"
      ],
      "execution_count": 20,
      "outputs": []
    },
    {
      "cell_type": "code",
      "metadata": {
        "id": "kfVivoyuVozx"
      },
      "source": [
        "converter = tf.lite.TFLiteConverter.from_saved_model(export_dir)\n",
        "\n",
        "# Set the optimzations\n",
        "converter.optimizations =  [optimization]\n",
        "# Invoke the converter to finally generate the TFLite model\n",
        "tflite_model =converter.convert()"
      ],
      "execution_count": null,
      "outputs": []
    },
    {
      "cell_type": "code",
      "metadata": {
        "colab": {
          "base_uri": "https://localhost:8080/"
        },
        "id": "o60SW5K5Vs8e",
        "outputId": "8328bc4f-b1c8-4aad-bfc0-ef62298e07dc"
      },
      "source": [
        "import pathlib\n",
        "tflite_model_file = pathlib.Path('./model.tflite')\n",
        "tflite_model_file.write_bytes(tflite_model)"
      ],
      "execution_count": null,
      "outputs": [
        {
          "output_type": "execute_result",
          "data": {
            "text/plain": [
              "467648"
            ]
          },
          "metadata": {
            "tags": []
          },
          "execution_count": 25
        }
      ]
    }
  ]
}